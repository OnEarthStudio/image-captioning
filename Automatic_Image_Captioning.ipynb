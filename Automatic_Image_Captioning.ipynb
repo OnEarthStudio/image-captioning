{
  "cells": [
    {
      "cell_type": "markdown",
      "metadata": {
        "id": "mI_WMZR2e2nQ"
      },
      "source": [
        " ### This program will perform automatic captining from still images in order to classify them afterwards\n"
      ]
    },
    {
      "cell_type": "markdown",
      "source": [
        "### Test\n"
      ],
      "metadata": {
        "id": "d7BB8QxwfLna"
      }
    },
    {
      "cell_type": "code",
      "execution_count": 1,
      "metadata": {
        "vscode": {
          "languageId": "plaintext"
        },
        "id": "FFCg0M9Ee2nS",
        "outputId": "5fd47297-50cb-48e5-d5f8-8561964a9286",
        "colab": {
          "base_uri": "https://localhost:8080/"
        }
      },
      "outputs": [
        {
          "output_type": "stream",
          "name": "stdout",
          "text": [
            "Mounted at /content/drive\n"
          ]
        }
      ],
      "source": [
        "from google.colab import drive\n",
        "drive.mount('/content/drive')"
      ]
    }
  ],
  "metadata": {
    "language_info": {
      "name": "python"
    },
    "orig_nbformat": 4,
    "colab": {
      "provenance": []
    },
    "kernelspec": {
      "name": "python3",
      "display_name": "Python 3"
    },
    "gpuClass": "standard"
  },
  "nbformat": 4,
  "nbformat_minor": 0
}